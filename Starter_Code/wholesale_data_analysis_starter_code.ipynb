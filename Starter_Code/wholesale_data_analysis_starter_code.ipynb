{
 "cells": [
  {
   "cell_type": "markdown",
   "id": "dc0318d6",
   "metadata": {},
   "source": [
    "## Part 1: Explore the Data\n",
    "\n",
    "Import the data and use Pandas to learn more about the dataset."
   ]
  },
  {
   "cell_type": "code",
   "execution_count": 1,
   "id": "e076f57f",
   "metadata": {},
   "outputs": [
    {
     "data": {
      "text/html": [
       "<div>\n",
       "<style scoped>\n",
       "    .dataframe tbody tr th:only-of-type {\n",
       "        vertical-align: middle;\n",
       "    }\n",
       "\n",
       "    .dataframe tbody tr th {\n",
       "        vertical-align: top;\n",
       "    }\n",
       "\n",
       "    .dataframe thead th {\n",
       "        text-align: right;\n",
       "    }\n",
       "</style>\n",
       "<table border=\"1\" class=\"dataframe\">\n",
       "  <thead>\n",
       "    <tr style=\"text-align: right;\">\n",
       "      <th></th>\n",
       "      <th>first</th>\n",
       "      <th>last</th>\n",
       "      <th>job</th>\n",
       "      <th>phone</th>\n",
       "      <th>email</th>\n",
       "      <th>client_id</th>\n",
       "      <th>order_id</th>\n",
       "      <th>order_date</th>\n",
       "      <th>order_week</th>\n",
       "      <th>order_year</th>\n",
       "      <th>item_id</th>\n",
       "      <th>category</th>\n",
       "      <th>subcategory</th>\n",
       "      <th>unit_price</th>\n",
       "      <th>unit_cost</th>\n",
       "      <th>unit_weight</th>\n",
       "      <th>qty</th>\n",
       "      <th>line_number</th>\n",
       "    </tr>\n",
       "  </thead>\n",
       "  <tbody>\n",
       "    <tr>\n",
       "      <th>0</th>\n",
       "      <td>Donald</td>\n",
       "      <td>gggg</td>\n",
       "      <td>Immunologist</td>\n",
       "      <td>793-904-7725x39308</td>\n",
       "      <td>harding.donald.7185@sullivan.com</td>\n",
       "      <td>58515</td>\n",
       "      <td>8953482</td>\n",
       "      <td>2023-04-28</td>\n",
       "      <td>17</td>\n",
       "      <td>2023</td>\n",
       "      <td>EUD29711-63-6U</td>\n",
       "      <td>decor</td>\n",
       "      <td>wall art</td>\n",
       "      <td>1096.80</td>\n",
       "      <td>762.71</td>\n",
       "      <td>7.50</td>\n",
       "      <td>105</td>\n",
       "      <td>1</td>\n",
       "    </tr>\n",
       "    <tr>\n",
       "      <th>1</th>\n",
       "      <td>Tiffany</td>\n",
       "      <td>Myers</td>\n",
       "      <td>Music therapist</td>\n",
       "      <td>201.442.4543x942</td>\n",
       "      <td>myers.t.6537@ferguson-johnson.net</td>\n",
       "      <td>37609</td>\n",
       "      <td>8069089</td>\n",
       "      <td>2023-05-19</td>\n",
       "      <td>20</td>\n",
       "      <td>2023</td>\n",
       "      <td>XDA18116-89-4A</td>\n",
       "      <td>consumables</td>\n",
       "      <td>pens</td>\n",
       "      <td>24.95</td>\n",
       "      <td>15.09</td>\n",
       "      <td>1.49</td>\n",
       "      <td>21</td>\n",
       "      <td>0</td>\n",
       "    </tr>\n",
       "    <tr>\n",
       "      <th>2</th>\n",
       "      <td>Shannon</td>\n",
       "      <td>Watson</td>\n",
       "      <td>Immunologist</td>\n",
       "      <td>687.737.9424x8503</td>\n",
       "      <td>swatson8146@payne.net</td>\n",
       "      <td>57113</td>\n",
       "      <td>1902144</td>\n",
       "      <td>2023-01-29</td>\n",
       "      <td>4</td>\n",
       "      <td>2023</td>\n",
       "      <td>ABE59463-05-7E</td>\n",
       "      <td>software</td>\n",
       "      <td>project management</td>\n",
       "      <td>13.52</td>\n",
       "      <td>7.86</td>\n",
       "      <td>1.68</td>\n",
       "      <td>39</td>\n",
       "      <td>6</td>\n",
       "    </tr>\n",
       "    <tr>\n",
       "      <th>3</th>\n",
       "      <td>Nathan</td>\n",
       "      <td>Baker</td>\n",
       "      <td>Accounting technician</td>\n",
       "      <td>827-788-8123x012</td>\n",
       "      <td>bakernathan@benson.com</td>\n",
       "      <td>46554</td>\n",
       "      <td>9031802</td>\n",
       "      <td>2023-04-25</td>\n",
       "      <td>17</td>\n",
       "      <td>2023</td>\n",
       "      <td>ZMM00836-65-0C</td>\n",
       "      <td>consumables</td>\n",
       "      <td>pens</td>\n",
       "      <td>36.42</td>\n",
       "      <td>24.85</td>\n",
       "      <td>1.23</td>\n",
       "      <td>29</td>\n",
       "      <td>3</td>\n",
       "    </tr>\n",
       "    <tr>\n",
       "      <th>4</th>\n",
       "      <td>Christina</td>\n",
       "      <td>Schwartz</td>\n",
       "      <td>Chiropractor</td>\n",
       "      <td>265-829-3643</td>\n",
       "      <td>christinaschwartz9252@mcconnell.com</td>\n",
       "      <td>92089</td>\n",
       "      <td>1322274</td>\n",
       "      <td>2023-05-28</td>\n",
       "      <td>21</td>\n",
       "      <td>2023</td>\n",
       "      <td>BZX55559-12-3X</td>\n",
       "      <td>consumables</td>\n",
       "      <td>misc</td>\n",
       "      <td>195.10</td>\n",
       "      <td>108.17</td>\n",
       "      <td>46.43</td>\n",
       "      <td>20</td>\n",
       "      <td>1</td>\n",
       "    </tr>\n",
       "  </tbody>\n",
       "</table>\n",
       "</div>"
      ],
      "text/plain": [
       "       first      last                    job               phone  \\\n",
       "0     Donald      gggg           Immunologist  793-904-7725x39308   \n",
       "1    Tiffany     Myers        Music therapist    201.442.4543x942   \n",
       "2    Shannon    Watson           Immunologist   687.737.9424x8503   \n",
       "3     Nathan     Baker  Accounting technician    827-788-8123x012   \n",
       "4  Christina  Schwartz           Chiropractor        265-829-3643   \n",
       "\n",
       "                                 email  client_id  order_id  order_date  \\\n",
       "0     harding.donald.7185@sullivan.com      58515   8953482  2023-04-28   \n",
       "1    myers.t.6537@ferguson-johnson.net      37609   8069089  2023-05-19   \n",
       "2                swatson8146@payne.net      57113   1902144  2023-01-29   \n",
       "3               bakernathan@benson.com      46554   9031802  2023-04-25   \n",
       "4  christinaschwartz9252@mcconnell.com      92089   1322274  2023-05-28   \n",
       "\n",
       "   order_week  order_year         item_id     category         subcategory  \\\n",
       "0          17        2023  EUD29711-63-6U        decor            wall art   \n",
       "1          20        2023  XDA18116-89-4A  consumables                pens   \n",
       "2           4        2023  ABE59463-05-7E     software  project management   \n",
       "3          17        2023  ZMM00836-65-0C  consumables                pens   \n",
       "4          21        2023  BZX55559-12-3X  consumables                misc   \n",
       "\n",
       "   unit_price  unit_cost  unit_weight  qty  line_number  \n",
       "0     1096.80     762.71         7.50  105            1  \n",
       "1       24.95      15.09         1.49   21            0  \n",
       "2       13.52       7.86         1.68   39            6  \n",
       "3       36.42      24.85         1.23   29            3  \n",
       "4      195.10     108.17        46.43   20            1  "
      ]
     },
     "execution_count": 1,
     "metadata": {},
     "output_type": "execute_result"
    }
   ],
   "source": [
    "import pandas as pd\n",
    "\n",
    "pd.set_option('display.precision', 2)\n",
    "df = pd.read_csv('Resources/client_dataset.csv')\n",
    "df.head()"
   ]
  },
  {
   "cell_type": "code",
   "execution_count": 2,
   "id": "71b9bbd2",
   "metadata": {},
   "outputs": [
    {
     "data": {
      "text/plain": [
       "Index(['first', 'last', 'job', 'phone', 'email', 'client_id', 'order_id',\n",
       "       'order_date', 'order_week', 'order_year', 'item_id', 'category',\n",
       "       'subcategory', 'unit_price', 'unit_cost', 'unit_weight', 'qty',\n",
       "       'line_number'],\n",
       "      dtype='object')"
      ]
     },
     "execution_count": 2,
     "metadata": {},
     "output_type": "execute_result"
    }
   ],
   "source": [
    "# View the column names in the data\n",
    "\n",
    "df.columns"
   ]
  },
  {
   "cell_type": "code",
   "execution_count": 3,
   "id": "bc0f4172",
   "metadata": {},
   "outputs": [
    {
     "name": "stdout",
     "output_type": "stream",
     "text": [
      "       client_id  order_id  order_week  order_year  unit_price  unit_cost  \\\n",
      "count   54639.00  5.46e+04    54639.00    54639.00    54639.00   54639.00   \n",
      "mean    54837.87  5.47e+06       11.36     2022.99      136.27      99.45   \n",
      "std     25487.44  2.60e+06        7.02        0.08      183.87     133.16   \n",
      "min     10033.00  1.00e+06        1.00     2022.00        0.01       0.01   \n",
      "25%     33593.00  3.20e+06        6.00     2023.00       20.80      14.84   \n",
      "50%     53305.00  5.50e+06       11.00     2023.00       68.31      49.89   \n",
      "75%     78498.00  7.73e+06       17.00     2023.00      173.16     125.57   \n",
      "max     99984.00  1.00e+07       52.00     2023.00     1396.23     846.27   \n",
      "\n",
      "       unit_weight       qty  line_number  \n",
      "count     54639.00  5.46e+04     54639.00  \n",
      "mean          5.00  5.70e+02         2.98  \n",
      "std           5.33  1.88e+04         2.44  \n",
      "min           0.00  0.00e+00         0.00  \n",
      "25%           1.45  3.20e+01         1.00  \n",
      "50%           3.24  6.80e+01         3.00  \n",
      "75%           6.89  1.70e+02         5.00  \n",
      "max          46.43  3.96e+06         9.00  \n"
     ]
    }
   ],
   "source": [
    "# Use the describe function to gather some basic statistics\n",
    "# View the column names in the data\n",
    "\n",
    "print(df.describe()) "
   ]
  },
  {
   "cell_type": "code",
   "execution_count": 4,
   "id": "b24b53cc",
   "metadata": {},
   "outputs": [
    {
     "name": "stdout",
     "output_type": "stream",
     "text": [
      "<bound method DataFrame.info of            first       last                      job               phone  \\\n",
      "0         Donald       gggg             Immunologist  793-904-7725x39308   \n",
      "1        Tiffany      Myers          Music therapist    201.442.4543x942   \n",
      "2        Shannon     Watson             Immunologist   687.737.9424x8503   \n",
      "3         Nathan      Baker    Accounting technician    827-788-8123x012   \n",
      "4      Christina   Schwartz             Chiropractor        265-829-3643   \n",
      "...          ...        ...                      ...                 ...   \n",
      "54634     Lauren      Reese           Radio producer  977.877.5272x11382   \n",
      "54635    Derrick      Moore                 Musician        358.661.5483   \n",
      "54636     Monica  Gutierrez         Graphic designer    294.805.9100x339   \n",
      "54637      Wanda    Solomon             Toxicologist       (311)767-4924   \n",
      "54638     Dwayne       Bell  Chief Financial Officer   606-619-7667x9508   \n",
      "\n",
      "                                     email  client_id  order_id  order_date  \\\n",
      "0         harding.donald.7185@sullivan.com      58515   8953482  2023-04-28   \n",
      "1        myers.t.6537@ferguson-johnson.net      37609   8069089  2023-05-19   \n",
      "2                    swatson8146@payne.net      57113   1902144  2023-01-29   \n",
      "3                   bakernathan@benson.com      46554   9031802  2023-04-25   \n",
      "4      christinaschwartz9252@mcconnell.com      92089   1322274  2023-05-28   \n",
      "...                                    ...        ...       ...         ...   \n",
      "54634   late_reese_4081@montoya-chavez.org      29043   9021716  2023-04-26   \n",
      "54635         derrick.moore.2602@pope.info      41908   6290153  2023-02-08   \n",
      "54636            gutierrezm3195@morris.org      35176   8692622  2023-03-05   \n",
      "54637            solomonwanda5962@ross.org      24485   7592730  2023-01-18   \n",
      "54638                     belld@galvan.com      24007   7489403  2023-01-04   \n",
      "\n",
      "       order_week  order_year         item_id     category  \\\n",
      "0              17        2023  EUD29711-63-6U        decor   \n",
      "1              20        2023  XDA18116-89-4A  consumables   \n",
      "2               4        2023  ABE59463-05-7E     software   \n",
      "3              17        2023  ZMM00836-65-0C  consumables   \n",
      "4              21        2023  BZX55559-12-3X  consumables   \n",
      "...           ...         ...             ...          ...   \n",
      "54634          17        2023  UCA28532-31-0B     software   \n",
      "54635           6        2023  EBD29277-23-7U  consumables   \n",
      "54636           9        2023  EBD30093-55-9Z  consumables   \n",
      "54637           3        2023  XMZ38239-49-3D    furniture   \n",
      "54638           1        2023  ZCZ05589-50-5D     software   \n",
      "\n",
      "              subcategory  unit_price  unit_cost  unit_weight   qty  \\\n",
      "0                wall art     1096.80     762.71         7.50   105   \n",
      "1                    pens       24.95      15.09         1.49    21   \n",
      "2      project management       13.52       7.86         1.68    39   \n",
      "3                    pens       36.42      24.85         1.23    29   \n",
      "4                    misc      195.10     108.17        46.43    20   \n",
      "...                   ...         ...        ...          ...   ...   \n",
      "54634           logistics       83.13      51.60         2.25    33   \n",
      "54635    kitchen supplies      206.59     175.46        11.70    47   \n",
      "54636   bathroom supplies       65.66      57.31         4.16   475   \n",
      "54637              stands        1.48       1.22        18.04   112   \n",
      "54638  project management        3.01       1.61         2.07  1031   \n",
      "\n",
      "       line_number  \n",
      "0                1  \n",
      "1                0  \n",
      "2                6  \n",
      "3                3  \n",
      "4                1  \n",
      "...            ...  \n",
      "54634            8  \n",
      "54635            0  \n",
      "54636            6  \n",
      "54637            0  \n",
      "54638            5  \n",
      "\n",
      "[54639 rows x 18 columns]>\n"
     ]
    }
   ],
   "source": [
    "# Use this space to do any additional research\n",
    "# and familiarize yourself with the data.\n",
    "\n",
    "print(df.info) "
   ]
  },
  {
   "cell_type": "code",
   "execution_count": 5,
   "id": "0e1b6d82",
   "metadata": {},
   "outputs": [
    {
     "data": {
      "text/plain": [
       "<bound method NDFrame.sample of            first       last                      job               phone  \\\n",
       "0         Donald       gggg             Immunologist  793-904-7725x39308   \n",
       "1        Tiffany      Myers          Music therapist    201.442.4543x942   \n",
       "2        Shannon     Watson             Immunologist   687.737.9424x8503   \n",
       "3         Nathan      Baker    Accounting technician    827-788-8123x012   \n",
       "4      Christina   Schwartz             Chiropractor        265-829-3643   \n",
       "...          ...        ...                      ...                 ...   \n",
       "54634     Lauren      Reese           Radio producer  977.877.5272x11382   \n",
       "54635    Derrick      Moore                 Musician        358.661.5483   \n",
       "54636     Monica  Gutierrez         Graphic designer    294.805.9100x339   \n",
       "54637      Wanda    Solomon             Toxicologist       (311)767-4924   \n",
       "54638     Dwayne       Bell  Chief Financial Officer   606-619-7667x9508   \n",
       "\n",
       "                                     email  client_id  order_id  order_date  \\\n",
       "0         harding.donald.7185@sullivan.com      58515   8953482  2023-04-28   \n",
       "1        myers.t.6537@ferguson-johnson.net      37609   8069089  2023-05-19   \n",
       "2                    swatson8146@payne.net      57113   1902144  2023-01-29   \n",
       "3                   bakernathan@benson.com      46554   9031802  2023-04-25   \n",
       "4      christinaschwartz9252@mcconnell.com      92089   1322274  2023-05-28   \n",
       "...                                    ...        ...       ...         ...   \n",
       "54634   late_reese_4081@montoya-chavez.org      29043   9021716  2023-04-26   \n",
       "54635         derrick.moore.2602@pope.info      41908   6290153  2023-02-08   \n",
       "54636            gutierrezm3195@morris.org      35176   8692622  2023-03-05   \n",
       "54637            solomonwanda5962@ross.org      24485   7592730  2023-01-18   \n",
       "54638                     belld@galvan.com      24007   7489403  2023-01-04   \n",
       "\n",
       "       order_week  order_year         item_id     category  \\\n",
       "0              17        2023  EUD29711-63-6U        decor   \n",
       "1              20        2023  XDA18116-89-4A  consumables   \n",
       "2               4        2023  ABE59463-05-7E     software   \n",
       "3              17        2023  ZMM00836-65-0C  consumables   \n",
       "4              21        2023  BZX55559-12-3X  consumables   \n",
       "...           ...         ...             ...          ...   \n",
       "54634          17        2023  UCA28532-31-0B     software   \n",
       "54635           6        2023  EBD29277-23-7U  consumables   \n",
       "54636           9        2023  EBD30093-55-9Z  consumables   \n",
       "54637           3        2023  XMZ38239-49-3D    furniture   \n",
       "54638           1        2023  ZCZ05589-50-5D     software   \n",
       "\n",
       "              subcategory  unit_price  unit_cost  unit_weight   qty  \\\n",
       "0                wall art     1096.80     762.71         7.50   105   \n",
       "1                    pens       24.95      15.09         1.49    21   \n",
       "2      project management       13.52       7.86         1.68    39   \n",
       "3                    pens       36.42      24.85         1.23    29   \n",
       "4                    misc      195.10     108.17        46.43    20   \n",
       "...                   ...         ...        ...          ...   ...   \n",
       "54634           logistics       83.13      51.60         2.25    33   \n",
       "54635    kitchen supplies      206.59     175.46        11.70    47   \n",
       "54636   bathroom supplies       65.66      57.31         4.16   475   \n",
       "54637              stands        1.48       1.22        18.04   112   \n",
       "54638  project management        3.01       1.61         2.07  1031   \n",
       "\n",
       "       line_number  \n",
       "0                1  \n",
       "1                0  \n",
       "2                6  \n",
       "3                3  \n",
       "4                1  \n",
       "...            ...  \n",
       "54634            8  \n",
       "54635            0  \n",
       "54636            6  \n",
       "54637            0  \n",
       "54638            5  \n",
       "\n",
       "[54639 rows x 18 columns]>"
      ]
     },
     "execution_count": 5,
     "metadata": {},
     "output_type": "execute_result"
    }
   ],
   "source": [
    "df.sample"
   ]
  },
  {
   "cell_type": "code",
   "execution_count": 6,
   "id": "2f5535a4",
   "metadata": {},
   "outputs": [
    {
     "data": {
      "text/plain": [
       "first           object\n",
       "last            object\n",
       "job             object\n",
       "phone           object\n",
       "email           object\n",
       "client_id        int64\n",
       "order_id         int64\n",
       "order_date      object\n",
       "order_week       int64\n",
       "order_year       int64\n",
       "item_id         object\n",
       "category        object\n",
       "subcategory     object\n",
       "unit_price     float64\n",
       "unit_cost      float64\n",
       "unit_weight    float64\n",
       "qty              int64\n",
       "line_number      int64\n",
       "dtype: object"
      ]
     },
     "execution_count": 6,
     "metadata": {},
     "output_type": "execute_result"
    }
   ],
   "source": [
    "df.dtypes"
   ]
  },
  {
   "cell_type": "code",
   "execution_count": 7,
   "id": "ee534d9f",
   "metadata": {},
   "outputs": [
    {
     "data": {
      "text/plain": [
       "<bound method DataFrame.nunique of            first       last                      job               phone  \\\n",
       "0         Donald       gggg             Immunologist  793-904-7725x39308   \n",
       "1        Tiffany      Myers          Music therapist    201.442.4543x942   \n",
       "2        Shannon     Watson             Immunologist   687.737.9424x8503   \n",
       "3         Nathan      Baker    Accounting technician    827-788-8123x012   \n",
       "4      Christina   Schwartz             Chiropractor        265-829-3643   \n",
       "...          ...        ...                      ...                 ...   \n",
       "54634     Lauren      Reese           Radio producer  977.877.5272x11382   \n",
       "54635    Derrick      Moore                 Musician        358.661.5483   \n",
       "54636     Monica  Gutierrez         Graphic designer    294.805.9100x339   \n",
       "54637      Wanda    Solomon             Toxicologist       (311)767-4924   \n",
       "54638     Dwayne       Bell  Chief Financial Officer   606-619-7667x9508   \n",
       "\n",
       "                                     email  client_id  order_id  order_date  \\\n",
       "0         harding.donald.7185@sullivan.com      58515   8953482  2023-04-28   \n",
       "1        myers.t.6537@ferguson-johnson.net      37609   8069089  2023-05-19   \n",
       "2                    swatson8146@payne.net      57113   1902144  2023-01-29   \n",
       "3                   bakernathan@benson.com      46554   9031802  2023-04-25   \n",
       "4      christinaschwartz9252@mcconnell.com      92089   1322274  2023-05-28   \n",
       "...                                    ...        ...       ...         ...   \n",
       "54634   late_reese_4081@montoya-chavez.org      29043   9021716  2023-04-26   \n",
       "54635         derrick.moore.2602@pope.info      41908   6290153  2023-02-08   \n",
       "54636            gutierrezm3195@morris.org      35176   8692622  2023-03-05   \n",
       "54637            solomonwanda5962@ross.org      24485   7592730  2023-01-18   \n",
       "54638                     belld@galvan.com      24007   7489403  2023-01-04   \n",
       "\n",
       "       order_week  order_year         item_id     category  \\\n",
       "0              17        2023  EUD29711-63-6U        decor   \n",
       "1              20        2023  XDA18116-89-4A  consumables   \n",
       "2               4        2023  ABE59463-05-7E     software   \n",
       "3              17        2023  ZMM00836-65-0C  consumables   \n",
       "4              21        2023  BZX55559-12-3X  consumables   \n",
       "...           ...         ...             ...          ...   \n",
       "54634          17        2023  UCA28532-31-0B     software   \n",
       "54635           6        2023  EBD29277-23-7U  consumables   \n",
       "54636           9        2023  EBD30093-55-9Z  consumables   \n",
       "54637           3        2023  XMZ38239-49-3D    furniture   \n",
       "54638           1        2023  ZCZ05589-50-5D     software   \n",
       "\n",
       "              subcategory  unit_price  unit_cost  unit_weight   qty  \\\n",
       "0                wall art     1096.80     762.71         7.50   105   \n",
       "1                    pens       24.95      15.09         1.49    21   \n",
       "2      project management       13.52       7.86         1.68    39   \n",
       "3                    pens       36.42      24.85         1.23    29   \n",
       "4                    misc      195.10     108.17        46.43    20   \n",
       "...                   ...         ...        ...          ...   ...   \n",
       "54634           logistics       83.13      51.60         2.25    33   \n",
       "54635    kitchen supplies      206.59     175.46        11.70    47   \n",
       "54636   bathroom supplies       65.66      57.31         4.16   475   \n",
       "54637              stands        1.48       1.22        18.04   112   \n",
       "54638  project management        3.01       1.61         2.07  1031   \n",
       "\n",
       "       line_number  \n",
       "0                1  \n",
       "1                0  \n",
       "2                6  \n",
       "3                3  \n",
       "4                1  \n",
       "...            ...  \n",
       "54634            8  \n",
       "54635            0  \n",
       "54636            6  \n",
       "54637            0  \n",
       "54638            5  \n",
       "\n",
       "[54639 rows x 18 columns]>"
      ]
     },
     "execution_count": 7,
     "metadata": {},
     "output_type": "execute_result"
    }
   ],
   "source": [
    "df.nunique"
   ]
  },
  {
   "cell_type": "code",
   "execution_count": 8,
   "id": "551cb358",
   "metadata": {},
   "outputs": [
    {
     "data": {
      "text/plain": [
       "category\n",
       "consumables    23538\n",
       "furniture      11915\n",
       "software        8400\n",
       "Name: count, dtype: int64"
      ]
     },
     "metadata": {},
     "output_type": "display_data"
    }
   ],
   "source": [
    "# What three item categories had the most entries?\n",
    "display(df['category'].value_counts().head(3))\n"
   ]
  },
  {
   "cell_type": "code",
   "execution_count": 9,
   "id": "5f54e2cf",
   "metadata": {},
   "outputs": [
    {
     "data": {
      "text/plain": [
       "subcategory\n",
       "bathroom supplies    6424\n",
       "Name: count, dtype: int64"
      ]
     },
     "metadata": {},
     "output_type": "display_data"
    }
   ],
   "source": [
    "## Example Output\n",
    "\"\"\" subcategory\n",
    "bathroom supplies    6424\n",
    "Name: count, dtype: int64 \"\"\"\n",
    "\n",
    "# For the category with the most entries, which subcategory had the most entries?\n",
    "display(df.subcategory.value_counts().head(1))"
   ]
  },
  {
   "cell_type": "code",
   "execution_count": 10,
   "id": "2db94379",
   "metadata": {},
   "outputs": [
    {
     "data": {
      "text/plain": [
       "client_id\n",
       "33615    220\n",
       "66037    211\n",
       "46820    209\n",
       "38378    207\n",
       "24741    207\n",
       "Name: count, dtype: int64"
      ]
     },
     "metadata": {},
     "output_type": "display_data"
    }
   ],
   "source": [
    "## Example Output\n",
    "\"\"\" client_id\n",
    "33615    220\n",
    "66037    211\n",
    "46820    209\n",
    "38378    207\n",
    "24741    207\n",
    "Name: count, dtype: int64 \"\"\"\n",
    "\n",
    "# Which five clients had the most entries in the data?\n",
    "\n",
    "display(df['client_id'].value_counts().nlargest(5))"
   ]
  },
  {
   "cell_type": "code",
   "execution_count": 11,
   "id": "a6635601",
   "metadata": {},
   "outputs": [
    {
     "data": {
      "text/plain": [
       "[33615, 66037, 46820, 38378, 24741]"
      ]
     },
     "metadata": {},
     "output_type": "display_data"
    }
   ],
   "source": [
    "## Example Output\n",
    "\"\"\" [33615, 66037, 46820, 38378, 24741] \"\"\"\n",
    "\n",
    "# Store the client ids of those top 5 clients in a list.\n",
    "top5ids=df['client_id'].value_counts().head(5).index.to_list()\n",
    "\n",
    "display(top5ids)"
   ]
  },
  {
   "cell_type": "code",
   "execution_count": 12,
   "id": "c88b8a3e",
   "metadata": {},
   "outputs": [
    {
     "data": {
      "text/plain": [
       "64313"
      ]
     },
     "metadata": {},
     "output_type": "display_data"
    }
   ],
   "source": [
    "## Example Output\n",
    "\"\"\" 64313 \"\"\"\n",
    "\n",
    "#find the client with most entries\n",
    "#print(df['client_id'].value_counts().nlargest(1))\n",
    "\n",
    "# How many total units (the qty column) did the client with the most entries order?\n",
    "display(df.loc[df['client_id'] == 33615, 'qty'].sum())"
   ]
  },
  {
   "cell_type": "code",
   "execution_count": 13,
   "id": "0489da72",
   "metadata": {},
   "outputs": [
    {
     "data": {
      "text/plain": [
       "64313"
      ]
     },
     "execution_count": 13,
     "metadata": {},
     "output_type": "execute_result"
    }
   ],
   "source": [
    "#do a dataframe loc wrapper around a dataframe with client_id that equals the client with the most entries, then sum their qty column\n",
    "\n",
    "df.loc[df['client_id'] == 33615, 'qty'].sum()"
   ]
  },
  {
   "cell_type": "code",
   "execution_count": 14,
   "id": "fc3f0542",
   "metadata": {},
   "outputs": [
    {
     "data": {
      "text/plain": [
       "64313"
      ]
     },
     "execution_count": 14,
     "metadata": {},
     "output_type": "execute_result"
    }
   ],
   "source": [
    "#do a dataframe loc wrapper around a dataframe with a lambda statement where x equals  the client with the most entries, then sum their qty column\n",
    "df[df['client_id'].apply(lambda x: x == 33615)]['qty'].sum()"
   ]
  },
  {
   "cell_type": "markdown",
   "id": "257fcd7d",
   "metadata": {},
   "source": [
    "## Part 2: Transform the Data\n",
    "Do we know that this client spent the more money than client 66037? If not, how would we find out? Transform the data using the steps below to prepare it for analysis."
   ]
  },
  {
   "cell_type": "code",
   "execution_count": null,
   "id": "0c25c4a8",
   "metadata": {},
   "outputs": [
    {
     "data": {
      "text/html": [
       "<div>\n",
       "<style scoped>\n",
       "    .dataframe tbody tr th:only-of-type {\n",
       "        vertical-align: middle;\n",
       "    }\n",
       "\n",
       "    .dataframe tbody tr th {\n",
       "        vertical-align: top;\n",
       "    }\n",
       "\n",
       "    .dataframe thead th {\n",
       "        text-align: right;\n",
       "    }\n",
       "</style>\n",
       "<table border=\"1\" class=\"dataframe\">\n",
       "  <thead>\n",
       "    <tr style=\"text-align: right;\">\n",
       "      <th></th>\n",
       "      <th>unit_price</th>\n",
       "      <th>qty</th>\n",
       "      <th>line_subtotal</th>\n",
       "    </tr>\n",
       "  </thead>\n",
       "  <tbody>\n",
       "    <tr>\n",
       "      <th>0</th>\n",
       "      <td>1096.80</td>\n",
       "      <td>105</td>\n",
       "      <td>115164.00</td>\n",
       "    </tr>\n",
       "    <tr>\n",
       "      <th>1</th>\n",
       "      <td>24.95</td>\n",
       "      <td>21</td>\n",
       "      <td>523.95</td>\n",
       "    </tr>\n",
       "    <tr>\n",
       "      <th>2</th>\n",
       "      <td>13.52</td>\n",
       "      <td>39</td>\n",
       "      <td>527.28</td>\n",
       "    </tr>\n",
       "    <tr>\n",
       "      <th>3</th>\n",
       "      <td>36.42</td>\n",
       "      <td>29</td>\n",
       "      <td>1056.18</td>\n",
       "    </tr>\n",
       "    <tr>\n",
       "      <th>4</th>\n",
       "      <td>195.10</td>\n",
       "      <td>20</td>\n",
       "      <td>3902.00</td>\n",
       "    </tr>\n",
       "  </tbody>\n",
       "</table>\n",
       "</div>"
      ],
      "text/plain": [
       "   unit_price  qty  line_subtotal\n",
       "0     1096.80  105      115164.00\n",
       "1       24.95   21         523.95\n",
       "2       13.52   39         527.28\n",
       "3       36.42   29        1056.18\n",
       "4      195.10   20        3902.00"
      ]
     },
     "metadata": {},
     "output_type": "display_data"
    }
   ],
   "source": [
    "# Example\n",
    "#\t unit_price\tqty\tline_subtotal\n",
    "# 0\t 1096.80\t105\t115164.00\n",
    "# 1  24.95\t    21\t523.95\n",
    "\n",
    "# Create a column that calculates the subtotal for each line using the unit_price and the qty\n",
    "df['line_subtotal'] = df.apply(lambda row: row['unit_price'] * row['qty'], axis=1)\n",
    "display(df[['unit_price','qty','line_subtotal']].head())"
   ]
  },
  {
   "cell_type": "code",
   "execution_count": 16,
   "id": "ac9dafc8",
   "metadata": {},
   "outputs": [
    {
     "data": {
      "text/html": [
       "<div>\n",
       "<style scoped>\n",
       "    .dataframe tbody tr th:only-of-type {\n",
       "        vertical-align: middle;\n",
       "    }\n",
       "\n",
       "    .dataframe tbody tr th {\n",
       "        vertical-align: top;\n",
       "    }\n",
       "\n",
       "    .dataframe thead th {\n",
       "        text-align: right;\n",
       "    }\n",
       "</style>\n",
       "<table border=\"1\" class=\"dataframe\">\n",
       "  <thead>\n",
       "    <tr style=\"text-align: right;\">\n",
       "      <th></th>\n",
       "      <th>unit_price</th>\n",
       "      <th>unit_weight</th>\n",
       "      <th>qty</th>\n",
       "      <th>total_weight</th>\n",
       "      <th>shipping_price</th>\n",
       "    </tr>\n",
       "  </thead>\n",
       "  <tbody>\n",
       "    <tr>\n",
       "      <th>0</th>\n",
       "      <td>1096.80</td>\n",
       "      <td>7.50</td>\n",
       "      <td>105</td>\n",
       "      <td>787.50</td>\n",
       "      <td>5512.50</td>\n",
       "    </tr>\n",
       "    <tr>\n",
       "      <th>1</th>\n",
       "      <td>24.95</td>\n",
       "      <td>1.49</td>\n",
       "      <td>21</td>\n",
       "      <td>31.29</td>\n",
       "      <td>312.90</td>\n",
       "    </tr>\n",
       "    <tr>\n",
       "      <th>2</th>\n",
       "      <td>13.52</td>\n",
       "      <td>1.68</td>\n",
       "      <td>39</td>\n",
       "      <td>65.52</td>\n",
       "      <td>458.64</td>\n",
       "    </tr>\n",
       "    <tr>\n",
       "      <th>3</th>\n",
       "      <td>36.42</td>\n",
       "      <td>1.23</td>\n",
       "      <td>29</td>\n",
       "      <td>35.67</td>\n",
       "      <td>356.70</td>\n",
       "    </tr>\n",
       "    <tr>\n",
       "      <th>4</th>\n",
       "      <td>195.10</td>\n",
       "      <td>46.43</td>\n",
       "      <td>20</td>\n",
       "      <td>928.60</td>\n",
       "      <td>6500.20</td>\n",
       "    </tr>\n",
       "  </tbody>\n",
       "</table>\n",
       "</div>"
      ],
      "text/plain": [
       "   unit_price  unit_weight  qty  total_weight  shipping_price\n",
       "0     1096.80         7.50  105        787.50         5512.50\n",
       "1       24.95         1.49   21         31.29          312.90\n",
       "2       13.52         1.68   39         65.52          458.64\n",
       "3       36.42         1.23   29         35.67          356.70\n",
       "4      195.10        46.43   20        928.60         6500.20"
      ]
     },
     "metadata": {},
     "output_type": "display_data"
    }
   ],
   "source": [
    "# Example\n",
    "#\tunit_price\tunit_weight\tqty\ttotal_weight\tshipping_price\n",
    "# 0\t1096.80\t7.50\t105\t787.50\t5512.50\n",
    "# 1\t24.95\t1.49\t21\t31.29\t312.90\n",
    "# 2\t13.52\t1.68\t39\t65.52\t458.64\n",
    "# Create a column for shipping price.\n",
    "# Assume a shipping price of $7 per pound for orders over 50 pounds and $10 per pound for items 50 pounds or under.\n",
    "\n",
    "df['shipping_price'] = df.apply(lambda row: row[\"unit_weight\"] * row[\"qty\"] * 7 if row[\"unit_weight\"] * row[\"qty\"] > 50 else row[\"unit_weight\"] * row[\"qty\"] * 10, axis=1)\n",
    "df['total_weight'] = df.apply(lambda row: row[\"unit_weight\"] * row[\"qty\"], axis=1)\n",
    "display(df[['unit_price','unit_weight','qty','total_weight','shipping_price']].head())\n"
   ]
  },
  {
   "cell_type": "code",
   "execution_count": 17,
   "id": "77f42c67",
   "metadata": {},
   "outputs": [
    {
     "data": {
      "text/html": [
       "<div>\n",
       "<style scoped>\n",
       "    .dataframe tbody tr th:only-of-type {\n",
       "        vertical-align: middle;\n",
       "    }\n",
       "\n",
       "    .dataframe tbody tr th {\n",
       "        vertical-align: top;\n",
       "    }\n",
       "\n",
       "    .dataframe thead th {\n",
       "        text-align: right;\n",
       "    }\n",
       "</style>\n",
       "<table border=\"1\" class=\"dataframe\">\n",
       "  <thead>\n",
       "    <tr style=\"text-align: right;\">\n",
       "      <th></th>\n",
       "      <th>line_subtotal</th>\n",
       "      <th>shipping_price</th>\n",
       "      <th>total_price</th>\n",
       "    </tr>\n",
       "  </thead>\n",
       "  <tbody>\n",
       "    <tr>\n",
       "      <th>0</th>\n",
       "      <td>115164.00</td>\n",
       "      <td>5512.50</td>\n",
       "      <td>131839.08</td>\n",
       "    </tr>\n",
       "    <tr>\n",
       "      <th>1</th>\n",
       "      <td>523.95</td>\n",
       "      <td>312.90</td>\n",
       "      <td>914.26</td>\n",
       "    </tr>\n",
       "    <tr>\n",
       "      <th>2</th>\n",
       "      <td>527.28</td>\n",
       "      <td>458.64</td>\n",
       "      <td>1077.12</td>\n",
       "    </tr>\n",
       "    <tr>\n",
       "      <th>3</th>\n",
       "      <td>1056.18</td>\n",
       "      <td>356.70</td>\n",
       "      <td>1543.57</td>\n",
       "    </tr>\n",
       "    <tr>\n",
       "      <th>4</th>\n",
       "      <td>3902.00</td>\n",
       "      <td>6500.20</td>\n",
       "      <td>11364.40</td>\n",
       "    </tr>\n",
       "  </tbody>\n",
       "</table>\n",
       "</div>"
      ],
      "text/plain": [
       "   line_subtotal  shipping_price  total_price\n",
       "0      115164.00         5512.50    131839.08\n",
       "1         523.95          312.90       914.26\n",
       "2         527.28          458.64      1077.12\n",
       "3        1056.18          356.70      1543.57\n",
       "4        3902.00         6500.20     11364.40"
      ]
     },
     "metadata": {},
     "output_type": "display_data"
    }
   ],
   "source": [
    "# Example\n",
    "#\tline_subtotal\tshipping_price\tline_price\n",
    "#0\t115164.00\t5512.50\t131839.08\n",
    "#1\t523.95\t312.90\t914.26\n",
    "#2\t527.28\t458.64\t1077.12\n",
    "\n",
    "tax_rate=1.0925\n",
    "# Create a column for the total price using the subtotal and the shipping price along with a sales tax of 9.25%\n",
    "df[\"total_price\"] = (df[\"line_subtotal\"] + df[\"shipping_price\"]) * tax_rate\n",
    "display(df[[\"line_subtotal\",\"shipping_price\",\"total_price\"]].head())"
   ]
  },
  {
   "cell_type": "code",
   "execution_count": 18,
   "id": "c82ad275",
   "metadata": {},
   "outputs": [
    {
     "data": {
      "text/html": [
       "<div>\n",
       "<style scoped>\n",
       "    .dataframe tbody tr th:only-of-type {\n",
       "        vertical-align: middle;\n",
       "    }\n",
       "\n",
       "    .dataframe tbody tr th {\n",
       "        vertical-align: top;\n",
       "    }\n",
       "\n",
       "    .dataframe thead th {\n",
       "        text-align: right;\n",
       "    }\n",
       "</style>\n",
       "<table border=\"1\" class=\"dataframe\">\n",
       "  <thead>\n",
       "    <tr style=\"text-align: right;\">\n",
       "      <th></th>\n",
       "      <th>qty</th>\n",
       "      <th>client_id</th>\n",
       "      <th>unit_cost</th>\n",
       "      <th>line_subtotal</th>\n",
       "      <th>shipping_price</th>\n",
       "      <th>line_cost</th>\n",
       "    </tr>\n",
       "  </thead>\n",
       "  <tbody>\n",
       "    <tr>\n",
       "      <th>0</th>\n",
       "      <td>105</td>\n",
       "      <td>58515</td>\n",
       "      <td>762.71</td>\n",
       "      <td>115164.00</td>\n",
       "      <td>5512.50</td>\n",
       "      <td>85597.05</td>\n",
       "    </tr>\n",
       "    <tr>\n",
       "      <th>1</th>\n",
       "      <td>21</td>\n",
       "      <td>37609</td>\n",
       "      <td>15.09</td>\n",
       "      <td>523.95</td>\n",
       "      <td>312.90</td>\n",
       "      <td>629.79</td>\n",
       "    </tr>\n",
       "    <tr>\n",
       "      <th>2</th>\n",
       "      <td>39</td>\n",
       "      <td>57113</td>\n",
       "      <td>7.86</td>\n",
       "      <td>527.28</td>\n",
       "      <td>458.64</td>\n",
       "      <td>765.18</td>\n",
       "    </tr>\n",
       "    <tr>\n",
       "      <th>3</th>\n",
       "      <td>29</td>\n",
       "      <td>46554</td>\n",
       "      <td>24.85</td>\n",
       "      <td>1056.18</td>\n",
       "      <td>356.70</td>\n",
       "      <td>1077.35</td>\n",
       "    </tr>\n",
       "    <tr>\n",
       "      <th>4</th>\n",
       "      <td>20</td>\n",
       "      <td>92089</td>\n",
       "      <td>108.17</td>\n",
       "      <td>3902.00</td>\n",
       "      <td>6500.20</td>\n",
       "      <td>8663.60</td>\n",
       "    </tr>\n",
       "  </tbody>\n",
       "</table>\n",
       "</div>"
      ],
      "text/plain": [
       "   qty  client_id  unit_cost  line_subtotal  shipping_price  line_cost\n",
       "0  105      58515     762.71      115164.00         5512.50   85597.05\n",
       "1   21      37609      15.09         523.95          312.90     629.79\n",
       "2   39      57113       7.86         527.28          458.64     765.18\n",
       "3   29      46554      24.85        1056.18          356.70    1077.35\n",
       "4   20      92089     108.17        3902.00         6500.20    8663.60"
      ]
     },
     "metadata": {},
     "output_type": "display_data"
    }
   ],
   "source": [
    "#Example\n",
    "#first\tlast\tjob\tphone\temail\tclient_id\torder_id\torder_date\torder_week\torder_year\t...\tunit_price\tunit_cost\tunit_weight\tqty\tline_number\tline_subtotal\ttotal_weight\tshipping_price\tline_price\tline_cost\n",
    "#0\tDonald\tHarding\tImmunologist\t793-904-7725x39308\tharding.donald.7185@sullivan.com\t58515\t8953482\t2023-04-28\t17\t2023\t...\t1096.80\t762.71\t7.50\t105\t1\t115164.00\t787.50\t5512.50\t131839.08\t85597.05\n",
    "#1\tTiffany\tMyers\tMusic therapist\t201.442.4543x942\tmyers.t.6537@ferguson-johnson.net\t37609\t8069089\t2023-05-19\t20\t2023\t...\t24.95\t15.09\t1.49\t21\t0\t523.95\t31.29\t312.90\t914.26\t629.79\n",
    "#2\tShannon\tWatson\tImmunologist\t687.737.9424x8503\tswatson8146@payne.net\t57113\t1902144\t2023-01-29\t4\t2023\t...\t13.52\t7.86\t1.68\t39\t6\t527.28\t65.52\t458.64\t1077.12\t765.18\n",
    "\n",
    "# Create a column for the cost of each line using unit cost, qty, and\n",
    "# shipping price (assume the shipping cost is exactly what is charged to the client).\n",
    "df[\"line_cost\"] = (df[\"unit_cost\"] * df[\"qty\"] + df[\"shipping_price\"])\n",
    "# Display the values for 'qty','cost', 'unit_cost', and 'shipping_price' columns for all rows\n",
    "display(df[[\"qty\",\"client_id\",\"unit_cost\",\"line_subtotal\",\"shipping_price\",\"line_cost\"]].head())\n"
   ]
  },
  {
   "cell_type": "code",
   "execution_count": 19,
   "id": "e2389018",
   "metadata": {},
   "outputs": [
    {
     "data": {
      "text/html": [
       "<div>\n",
       "<style scoped>\n",
       "    .dataframe tbody tr th:only-of-type {\n",
       "        vertical-align: middle;\n",
       "    }\n",
       "\n",
       "    .dataframe tbody tr th {\n",
       "        vertical-align: top;\n",
       "    }\n",
       "\n",
       "    .dataframe thead th {\n",
       "        text-align: right;\n",
       "    }\n",
       "</style>\n",
       "<table border=\"1\" class=\"dataframe\">\n",
       "  <thead>\n",
       "    <tr style=\"text-align: right;\">\n",
       "      <th></th>\n",
       "      <th>qty</th>\n",
       "      <th>client_id</th>\n",
       "      <th>total_price</th>\n",
       "      <th>line_cost</th>\n",
       "      <th>line_profit</th>\n",
       "      <th>shipping_price</th>\n",
       "    </tr>\n",
       "  </thead>\n",
       "  <tbody>\n",
       "    <tr>\n",
       "      <th>0</th>\n",
       "      <td>105</td>\n",
       "      <td>58515</td>\n",
       "      <td>131839.08</td>\n",
       "      <td>85597.05</td>\n",
       "      <td>46242.03</td>\n",
       "      <td>5512.50</td>\n",
       "    </tr>\n",
       "    <tr>\n",
       "      <th>1</th>\n",
       "      <td>21</td>\n",
       "      <td>37609</td>\n",
       "      <td>914.26</td>\n",
       "      <td>629.79</td>\n",
       "      <td>284.47</td>\n",
       "      <td>312.90</td>\n",
       "    </tr>\n",
       "    <tr>\n",
       "      <th>2</th>\n",
       "      <td>39</td>\n",
       "      <td>57113</td>\n",
       "      <td>1077.12</td>\n",
       "      <td>765.18</td>\n",
       "      <td>311.94</td>\n",
       "      <td>458.64</td>\n",
       "    </tr>\n",
       "    <tr>\n",
       "      <th>3</th>\n",
       "      <td>29</td>\n",
       "      <td>46554</td>\n",
       "      <td>1543.57</td>\n",
       "      <td>1077.35</td>\n",
       "      <td>466.22</td>\n",
       "      <td>356.70</td>\n",
       "    </tr>\n",
       "    <tr>\n",
       "      <th>4</th>\n",
       "      <td>20</td>\n",
       "      <td>92089</td>\n",
       "      <td>11364.40</td>\n",
       "      <td>8663.60</td>\n",
       "      <td>2700.80</td>\n",
       "      <td>6500.20</td>\n",
       "    </tr>\n",
       "  </tbody>\n",
       "</table>\n",
       "</div>"
      ],
      "text/plain": [
       "   qty  client_id  total_price  line_cost  line_profit  shipping_price\n",
       "0  105      58515    131839.08   85597.05     46242.03         5512.50\n",
       "1   21      37609       914.26     629.79       284.47          312.90\n",
       "2   39      57113      1077.12     765.18       311.94          458.64\n",
       "3   29      46554      1543.57    1077.35       466.22          356.70\n",
       "4   20      92089     11364.40    8663.60      2700.80         6500.20"
      ]
     },
     "metadata": {},
     "output_type": "display_data"
    }
   ],
   "source": [
    "# Create a column for the profit of each line using line cost and total price\n",
    "df['line_profit'] = df['total_price'] - df['line_cost']\n",
    "df['total_profit'] = df['line_profit'] * df['qty']\n",
    "# Display the values for 'qty' ,'unit_profit', and 'shipping_price' columns for all rows\n",
    "display(df[['qty','client_id','total_price','line_cost','line_profit','shipping_price']].head())"
   ]
  },
  {
   "cell_type": "markdown",
   "id": "ef6f62b1",
   "metadata": {},
   "source": [
    "## Part 3: Confirm your work\n",
    "You have email receipts showing that the total prices for 3 orders. Confirm that your calculations match the receipts. Remember, each order has multiple lines.\n",
    "\n",
    "Order ID 2742071 had a total price of \\$152,811.89\n",
    "\n",
    "Order ID 2173913 had a total price of \\$162,388.71\n",
    "\n",
    "Order ID 6128929 had a total price of \\$923,441.25\n"
   ]
  },
  {
   "cell_type": "code",
   "execution_count": 20,
   "id": "c0e5d68e",
   "metadata": {},
   "outputs": [
    {
     "data": {
      "text/plain": [
       "'Order 2742071 total: $152811.90'"
      ]
     },
     "metadata": {},
     "output_type": "display_data"
    },
    {
     "data": {
      "text/plain": [
       "'Order 2173913 total: $162388.72'"
      ]
     },
     "metadata": {},
     "output_type": "display_data"
    },
    {
     "data": {
      "text/plain": [
       "'Order 6128929 total: $923441.24'"
      ]
     },
     "metadata": {},
     "output_type": "display_data"
    }
   ],
   "source": [
    "# Check your work using the totals above\n",
    "order_id = [2742071, 2173913, 6128929]  # Define the variable \"order_id\" with the desired values\n",
    "\n",
    "def find_order_price(order_id):\n",
    "    order_lines_df = df.loc[df['order_id'] == order_id, 'total_price']\n",
    "    formatted_number = \"{:.2f}\".format(order_lines_df.sum())\n",
    "    return formatted_number\n",
    "\n",
    "for order_id in order_id:\n",
    "    display(f\"Order {order_id} total: ${find_order_price(order_id)}\")"
   ]
  },
  {
   "cell_type": "markdown",
   "id": "b94d58ab",
   "metadata": {},
   "source": [
    "## Part 4: Summarize and Analyze\n",
    "Use the new columns with confirmed values to find the following information."
   ]
  },
  {
   "cell_type": "code",
   "execution_count": 21,
   "id": "7c005f34",
   "metadata": {},
   "outputs": [
    {
     "data": {
      "text/plain": [
       "'33615: $8377308.57'"
      ]
     },
     "metadata": {},
     "output_type": "display_data"
    },
    {
     "data": {
      "text/plain": [
       "'66037: $10259514.80'"
      ]
     },
     "metadata": {},
     "output_type": "display_data"
    },
    {
     "data": {
      "text/plain": [
       "'46820: $9743794.32'"
      ]
     },
     "metadata": {},
     "output_type": "display_data"
    },
    {
     "data": {
      "text/plain": [
       "'38378: $12906550.88'"
      ]
     },
     "metadata": {},
     "output_type": "display_data"
    },
    {
     "data": {
      "text/plain": [
       "'24741: $82268891.98'"
      ]
     },
     "metadata": {},
     "output_type": "display_data"
    }
   ],
   "source": [
    "#Example\n",
    "#33615: $8377308.52\n",
    "#66037: $10259514.79\n",
    "#46820: $9743794.36\n",
    "#38378: $12906550.87\n",
    "#24741: $82268892.02\n",
    "\n",
    "# How much did each of the top 5 clients by quantity spend? Check your work from Part 1 for client ids.\n",
    "def client_totals(client_id, total_price):\n",
    "    client_df = df.loc[df['client_id'] == client_id, total_price]\n",
    "    formatted_number = \"{:.2f}\".format(client_df.sum())\n",
    "    return formatted_number\n",
    "\n",
    "for client_id in top5ids:\n",
    "    display(f\"{client_id}: ${client_totals(client_id, 'total_price')}\")\n"
   ]
  },
  {
   "cell_type": "code",
   "execution_count": 22,
   "id": "81b6e4d2",
   "metadata": {},
   "outputs": [
    {
     "data": {
      "text/html": [
       "<div>\n",
       "<style scoped>\n",
       "    .dataframe tbody tr th:only-of-type {\n",
       "        vertical-align: middle;\n",
       "    }\n",
       "\n",
       "    .dataframe tbody tr th {\n",
       "        vertical-align: top;\n",
       "    }\n",
       "\n",
       "    .dataframe thead th {\n",
       "        text-align: right;\n",
       "    }\n",
       "</style>\n",
       "<table border=\"1\" class=\"dataframe\">\n",
       "  <thead>\n",
       "    <tr style=\"text-align: right;\">\n",
       "      <th></th>\n",
       "      <th>Client ID</th>\n",
       "      <th>Total Units Purchased</th>\n",
       "      <th>Total Shipping Price</th>\n",
       "      <th>Total Revenue</th>\n",
       "      <th>Total Profit</th>\n",
       "    </tr>\n",
       "  </thead>\n",
       "  <tbody>\n",
       "    <tr>\n",
       "      <th>0</th>\n",
       "      <td>24741</td>\n",
       "      <td>239862</td>\n",
       "      <td>5.13e+06</td>\n",
       "      <td>$82,268,891.98</td>\n",
       "      <td>$36,579,992.27</td>\n",
       "    </tr>\n",
       "    <tr>\n",
       "      <th>2</th>\n",
       "      <td>38378</td>\n",
       "      <td>73667</td>\n",
       "      <td>3.43e+06</td>\n",
       "      <td>$12,906,550.88</td>\n",
       "      <td>$3,271,829.90</td>\n",
       "    </tr>\n",
       "    <tr>\n",
       "      <th>4</th>\n",
       "      <td>66037</td>\n",
       "      <td>43018</td>\n",
       "      <td>1.40e+06</td>\n",
       "      <td>$10,259,514.80</td>\n",
       "      <td>$3,255,031.82</td>\n",
       "    </tr>\n",
       "    <tr>\n",
       "      <th>3</th>\n",
       "      <td>46820</td>\n",
       "      <td>75768</td>\n",
       "      <td>1.60e+06</td>\n",
       "      <td>$9,743,794.32</td>\n",
       "      <td>$2,736,602.68</td>\n",
       "    </tr>\n",
       "    <tr>\n",
       "      <th>1</th>\n",
       "      <td>33615</td>\n",
       "      <td>64313</td>\n",
       "      <td>1.83e+06</td>\n",
       "      <td>$8,377,308.57</td>\n",
       "      <td>$2,201,994.66</td>\n",
       "    </tr>\n",
       "  </tbody>\n",
       "</table>\n",
       "</div>"
      ],
      "text/plain": [
       "   Client ID  Total Units Purchased  Total Shipping Price   Total Revenue  \\\n",
       "0      24741                 239862              5.13e+06  $82,268,891.98   \n",
       "2      38378                  73667              3.43e+06  $12,906,550.88   \n",
       "4      66037                  43018              1.40e+06  $10,259,514.80   \n",
       "3      46820                  75768              1.60e+06   $9,743,794.32   \n",
       "1      33615                  64313              1.83e+06   $8,377,308.57   \n",
       "\n",
       "     Total Profit  \n",
       "0  $36,579,992.27  \n",
       "2   $3,271,829.90  \n",
       "4   $3,255,031.82  \n",
       "3   $2,736,602.68  \n",
       "1   $2,201,994.66  "
      ]
     },
     "metadata": {},
     "output_type": "display_data"
    }
   ],
   "source": [
    "#Example\n",
    "#client_id\tqty\tshipping_price\tline_price\tline_cost\tline_profit\n",
    "#0\t33615\t64313\t1828984.89\t8377308.52\t6175313.91\t2201994.61\n",
    "#1\t66037\t43018\t1395151.85\t10259514.79\t7004482.98\t3255031.81\n",
    "#2\t46820\t75768\t1601448.84\t9743794.36\t7007191.64\t2736602.72\n",
    "#3\t38378\t73667\t3429455.40\t12906550.87\t9634720.98\t3271829.89\n",
    "#4\t24741\t239862\t5126448.37\t82268892.02\t45688899.71\t36579992.31\n",
    "\n",
    "# Create a summary DataFrame showing the totals for \n",
    "# the top 5 clients with the following information:\n",
    "# total units purchased, total shipping price, total \n",
    "# revenue, and total profit. Sort by total profit.\n",
    "\n",
    "# Using Aggregate **************************************************\n",
    "df_filtered = df[df['client_id'].isin(top5ids)]\n",
    "\n",
    "# Aggregate data by client_id\n",
    "aggregated_df = df_filtered.groupby('client_id').agg({\n",
    "    'qty': 'sum',\n",
    "    'shipping_price': 'sum',\n",
    "    'total_price': 'sum',    \n",
    "    'line_profit': 'sum'\n",
    "}).reset_index()\n",
    "\n",
    "# Rename the columns for clarity\n",
    "aggregated_df.columns = ['Client ID', 'Total Units Purchased', 'Total Shipping Price', 'Total Revenue', 'Total Profit']\n",
    "# Convert Total Revenue and Total Profit to formatted string values with $ and commas\n",
    "aggregated_df['Total Revenue'] = aggregated_df['Total Revenue'].apply(lambda x: f\"${x:,.2f}\")\n",
    "aggregated_df['Total Profit'] = aggregated_df['Total Profit'].apply(lambda x: f\"${x:,.2f}\")\n",
    "\n",
    "\n",
    "# Sort the aggregated data by 'total_profit' from highest to lowest\n",
    "sorted_aggregated_df = aggregated_df.sort_values(by='Total Profit', ascending=False)\n",
    "\n",
    "# Display the sorted DataFrame\n",
    "display(sorted_aggregated_df)\n",
    "\n"
   ]
  },
  {
   "cell_type": "code",
   "execution_count": 23,
   "id": "7be02867",
   "metadata": {},
   "outputs": [
    {
     "data": {
      "text/html": [
       "<div>\n",
       "<style scoped>\n",
       "    .dataframe tbody tr th:only-of-type {\n",
       "        vertical-align: middle;\n",
       "    }\n",
       "\n",
       "    .dataframe tbody tr th {\n",
       "        vertical-align: top;\n",
       "    }\n",
       "\n",
       "    .dataframe thead th {\n",
       "        text-align: right;\n",
       "    }\n",
       "</style>\n",
       "<table border=\"1\" class=\"dataframe\">\n",
       "  <thead>\n",
       "    <tr style=\"text-align: right;\">\n",
       "      <th></th>\n",
       "      <th>Client ID</th>\n",
       "      <th>Units</th>\n",
       "      <th>Total Shipping (millions)</th>\n",
       "      <th>Total Revenue (millions)</th>\n",
       "      <th>Total Cost (millions)</th>\n",
       "      <th>Total Profit (millions)</th>\n",
       "    </tr>\n",
       "  </thead>\n",
       "  <tbody>\n",
       "    <tr>\n",
       "      <th>0</th>\n",
       "      <td>24741</td>\n",
       "      <td>239862</td>\n",
       "      <td>$5.13M</td>\n",
       "      <td>$82.27M</td>\n",
       "      <td>$45.69M</td>\n",
       "      <td>$36.58M</td>\n",
       "    </tr>\n",
       "    <tr>\n",
       "      <th>1</th>\n",
       "      <td>33615</td>\n",
       "      <td>64313</td>\n",
       "      <td>$1.83M</td>\n",
       "      <td>$8.38M</td>\n",
       "      <td>$6.18M</td>\n",
       "      <td>$2.20M</td>\n",
       "    </tr>\n",
       "    <tr>\n",
       "      <th>2</th>\n",
       "      <td>38378</td>\n",
       "      <td>73667</td>\n",
       "      <td>$3.43M</td>\n",
       "      <td>$12.91M</td>\n",
       "      <td>$9.63M</td>\n",
       "      <td>$3.27M</td>\n",
       "    </tr>\n",
       "    <tr>\n",
       "      <th>3</th>\n",
       "      <td>46820</td>\n",
       "      <td>75768</td>\n",
       "      <td>$1.60M</td>\n",
       "      <td>$9.74M</td>\n",
       "      <td>$7.01M</td>\n",
       "      <td>$2.74M</td>\n",
       "    </tr>\n",
       "    <tr>\n",
       "      <th>4</th>\n",
       "      <td>66037</td>\n",
       "      <td>43018</td>\n",
       "      <td>$1.40M</td>\n",
       "      <td>$10.26M</td>\n",
       "      <td>$7.00M</td>\n",
       "      <td>$3.26M</td>\n",
       "    </tr>\n",
       "  </tbody>\n",
       "</table>\n",
       "</div>"
      ],
      "text/plain": [
       "   Client ID   Units Total Shipping (millions) Total Revenue (millions)  \\\n",
       "0      24741  239862                    $5.13M                  $82.27M   \n",
       "1      33615   64313                    $1.83M                   $8.38M   \n",
       "2      38378   73667                    $3.43M                  $12.91M   \n",
       "3      46820   75768                    $1.60M                   $9.74M   \n",
       "4      66037   43018                    $1.40M                  $10.26M   \n",
       "\n",
       "  Total Cost (millions) Total Profit (millions)  \n",
       "0               $45.69M                 $36.58M  \n",
       "1                $6.18M                  $2.20M  \n",
       "2                $9.63M                  $3.27M  \n",
       "3                $7.01M                  $2.74M  \n",
       "4                $7.00M                  $3.26M  "
      ]
     },
     "metadata": {},
     "output_type": "display_data"
    }
   ],
   "source": [
    "#Example\n",
    "#Client ID\tUnits\tShipping (millions)\tTotal Revenue (millions)\tTotal Cost (millions)\tTotal Profit (millions)\n",
    "#0\t33615\t64313\t1.828985\t8.377309\t6.175314\t2.201995\n",
    "#1\t66037\t43018\t1.395152\t10.259515\t7.004483\t3.255032\n",
    "#2\t46820\t75768\t1.601449\t9.743794\t7.007192\t2.736603\n",
    "#3\t38378\t73667\t3.429455\t12.906551\t9.634721\t3.271830\n",
    "#4\t24741\t239862\t5.126448\t82.268892\t45.688900\t36.579992\n",
    "\n",
    "df_filtered = df[df['client_id'].isin(top5ids)]\n",
    "\n",
    "# summary data by client_id\n",
    "summary_df = df_filtered.groupby('client_id').agg({\n",
    "    'qty': 'sum',\n",
    "    'shipping_price': 'sum',\n",
    "    'total_price': 'sum', \n",
    "    'line_cost': 'sum',   \n",
    "    'line_profit': 'sum'\n",
    "}).reset_index()\n",
    "\n",
    "# Rename the columns\n",
    "summary_df.rename(columns={\n",
    "'client_id':'Client ID',\n",
    "'qty':'Units',\n",
    "'shipping_price':'Total Shipping (millions)',\n",
    "'total_price':'Total Revenue (millions)',\n",
    "'line_cost':'Total Cost (millions)',\n",
    "'line_profit':'Total Profit (millions)'\n",
    "}, inplace=True)\n",
    "\n",
    "#List of columns that needs reformat of amounts\n",
    "columns_to_mod = ['Total Shipping (millions)', 'Total Revenue (millions)', 'Total Cost (millions)', 'Total Profit (millions)']\n",
    "\n",
    "for column in columns_to_mod:\n",
    "    summary_df[column] = round(summary_df[column]/1000000, 2)\n",
    "    summary_df[column] = summary_df[column].apply(lambda x: f'${x:.2f}M')\n",
    "\n",
    "# Display the sorted DataFrame\n",
    "display(summary_df)\n"
   ]
  },
  {
   "cell_type": "code",
   "execution_count": 24,
   "id": "8ead0986",
   "metadata": {},
   "outputs": [
    {
     "data": {
      "text/html": [
       "<div>\n",
       "<style scoped>\n",
       "    .dataframe tbody tr th:only-of-type {\n",
       "        vertical-align: middle;\n",
       "    }\n",
       "\n",
       "    .dataframe tbody tr th {\n",
       "        vertical-align: top;\n",
       "    }\n",
       "\n",
       "    .dataframe thead th {\n",
       "        text-align: right;\n",
       "    }\n",
       "</style>\n",
       "<table border=\"1\" class=\"dataframe\">\n",
       "  <thead>\n",
       "    <tr style=\"text-align: right;\">\n",
       "      <th></th>\n",
       "      <th>Client ID</th>\n",
       "      <th>Units</th>\n",
       "      <th>Total Shipping (millions)</th>\n",
       "      <th>Total Revenue (millions)</th>\n",
       "      <th>Total Cost (millions)</th>\n",
       "      <th>Total Profit (millions)</th>\n",
       "    </tr>\n",
       "  </thead>\n",
       "  <tbody>\n",
       "    <tr>\n",
       "      <th>0</th>\n",
       "      <td>24741</td>\n",
       "      <td>239862</td>\n",
       "      <td>$5.13M</td>\n",
       "      <td>$82.27M</td>\n",
       "      <td>$45.69M</td>\n",
       "      <td>$36.58M</td>\n",
       "    </tr>\n",
       "    <tr>\n",
       "      <th>2</th>\n",
       "      <td>38378</td>\n",
       "      <td>73667</td>\n",
       "      <td>$3.43M</td>\n",
       "      <td>$12.91M</td>\n",
       "      <td>$9.63M</td>\n",
       "      <td>$3.27M</td>\n",
       "    </tr>\n",
       "    <tr>\n",
       "      <th>4</th>\n",
       "      <td>66037</td>\n",
       "      <td>43018</td>\n",
       "      <td>$1.40M</td>\n",
       "      <td>$10.26M</td>\n",
       "      <td>$7.00M</td>\n",
       "      <td>$3.26M</td>\n",
       "    </tr>\n",
       "    <tr>\n",
       "      <th>3</th>\n",
       "      <td>46820</td>\n",
       "      <td>75768</td>\n",
       "      <td>$1.60M</td>\n",
       "      <td>$9.74M</td>\n",
       "      <td>$7.01M</td>\n",
       "      <td>$2.74M</td>\n",
       "    </tr>\n",
       "    <tr>\n",
       "      <th>1</th>\n",
       "      <td>33615</td>\n",
       "      <td>64313</td>\n",
       "      <td>$1.83M</td>\n",
       "      <td>$8.38M</td>\n",
       "      <td>$6.18M</td>\n",
       "      <td>$2.20M</td>\n",
       "    </tr>\n",
       "  </tbody>\n",
       "</table>\n",
       "</div>"
      ],
      "text/plain": [
       "   Client ID   Units Total Shipping (millions) Total Revenue (millions)  \\\n",
       "0      24741  239862                    $5.13M                  $82.27M   \n",
       "2      38378   73667                    $3.43M                  $12.91M   \n",
       "4      66037   43018                    $1.40M                  $10.26M   \n",
       "3      46820   75768                    $1.60M                   $9.74M   \n",
       "1      33615   64313                    $1.83M                   $8.38M   \n",
       "\n",
       "  Total Cost (millions) Total Profit (millions)  \n",
       "0               $45.69M                 $36.58M  \n",
       "2                $9.63M                  $3.27M  \n",
       "4                $7.00M                  $3.26M  \n",
       "3                $7.01M                  $2.74M  \n",
       "1                $6.18M                  $2.20M  "
      ]
     },
     "metadata": {},
     "output_type": "display_data"
    }
   ],
   "source": [
    "# Sort the updated data by \"Total Profit (millions)\" form highest to lowest and assign the sort to a new DatFrame.\n",
    "sorted_summary_df = summary_df.sort_values(by='Total Profit (millions)', ascending=False)\n",
    "\n",
    "display(sorted_summary_df) # this will print the sorted summary DataFrame"
   ]
  },
  {
   "cell_type": "code",
   "execution_count": 25,
   "id": "87e0e7f8-b60e-4e50-ab07-c36b6deed513",
   "metadata": {},
   "outputs": [],
   "source": [
    "# Write a brief 2-3 sentence summary of your findings.\n",
    "\n",
    "# Pandas is a go-to library in Python for anyone working with data, offering\n",
    "# efficient tools for data manipulation and analysis. Its DataFrame structure\n",
    "# makes it easy to load, filter, and analyze large datasets, simplifying complex\n",
    "# workflows. Plus, it works well with lists and dictionaries, giving users \n",
    "# flexibility and ease when transforming data."
   ]
  }
 ],
 "metadata": {
  "kernelspec": {
   "display_name": "base",
   "language": "python",
   "name": "python3"
  },
  "language_info": {
   "codemirror_mode": {
    "name": "ipython",
    "version": 3
   },
   "file_extension": ".py",
   "mimetype": "text/x-python",
   "name": "python",
   "nbconvert_exporter": "python",
   "pygments_lexer": "ipython3",
   "version": "3.12.4"
  }
 },
 "nbformat": 4,
 "nbformat_minor": 5
}
